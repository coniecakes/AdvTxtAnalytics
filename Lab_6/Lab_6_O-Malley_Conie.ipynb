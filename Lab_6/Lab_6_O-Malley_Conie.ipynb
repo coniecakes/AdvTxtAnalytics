{
 "cells": [
  {
   "cell_type": "markdown",
   "metadata": {},
   "source": [
    "# Lab 6 \n",
    "#### Conie O'Malley\n",
    "\n",
    "### Part 4: Take a Brief Look at Using Large Pre-trained Language Models\n",
    "#### Deliverable 16: Prepare Your Environment"
   ]
  },
  {
   "cell_type": "code",
   "execution_count": null,
   "metadata": {},
   "outputs": [],
   "source": [
    "import tensorflow as tf\n",
    "import torch\n",
    "import keras\n",
    "import nltk\n",
    "from nltk.corpus import movie_reviews\n",
    "from gensim.models import Word2Vec\n",
    "from transformers import pipeline\n",
    "nltk.download(\"movie_reviews\")"
   ]
  },
  {
   "cell_type": "code",
   "execution_count": null,
   "metadata": {},
   "outputs": [],
   "source": [
    "generator = pipeline('text-generation', model='gpt2')"
   ]
  },
  {
   "cell_type": "markdown",
   "metadata": {},
   "source": [
    "#### Deliverable 17: Use the LLM to Generate Text"
   ]
  },
  {
   "cell_type": "code",
   "execution_count": null,
   "metadata": {},
   "outputs": [],
   "source": [
    "generator.tokenizer.pad_token_id = generator.model.config.eos_token_id\n",
    "\n",
    "text = generator(\n",
    "    \"Once upon a time\",\n",
    "    max_new_tokens=100,\n",
    "    num_return_sequences=5\n",
    ")\n",
    "\n",
    "print(text)"
   ]
  }
 ],
 "metadata": {
  "language_info": {
   "name": "python"
  }
 },
 "nbformat": 4,
 "nbformat_minor": 2
}
